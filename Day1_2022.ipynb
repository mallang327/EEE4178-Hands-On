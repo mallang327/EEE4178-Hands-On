{
  "cells": [
    {
      "cell_type": "markdown",
      "metadata": {
        "id": "view-in-github",
        "colab_type": "text"
      },
      "source": [
        "<a href=\"https://colab.research.google.com/github/mallang327/EEE4178-Hands-On/blob/main/Day1_2022.ipynb\" target=\"_parent\"><img src=\"https://colab.research.google.com/assets/colab-badge.svg\" alt=\"Open In Colab\"/></a>"
      ]
    },
    {
      "cell_type": "markdown",
      "metadata": {
        "id": "Q4eByT88poRa"
      },
      "source": [
        "\n",
        "**Day1. Intro**\n",
        "\n",
        "1. Google Colab and Basic Python\n",
        "2. Pytorch\n",
        "3. XOR in Pytorch\n"
      ]
    },
    {
      "cell_type": "markdown",
      "metadata": {
        "id": "jEwjrvQbvF3i"
      },
      "source": [
        "# **1. Google Colab and Basic Python![다운로드 (1).png](data:image/png;base64,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)**"
      ]
    },
    {
      "cell_type": "markdown",
      "source": [
        "https://research.google.com/colaboratory/faq.html#idle-timeouts"
      ],
      "metadata": {
        "id": "DG-nLbmCX_vw"
      }
    },
    {
      "cell_type": "markdown",
      "metadata": {
        "id": "ObOEQ8H9vnMH"
      },
      "source": [
        "## 1.1 자료형과 연산\n",
        "\n",
        "#### 숫자형"
      ]
    },
    {
      "cell_type": "code",
      "execution_count": null,
      "metadata": {
        "colab": {
          "base_uri": "https://localhost:8080/"
        },
        "id": "-VTIbh8qvE4O",
        "outputId": "925a14ce-a785-4060-b94b-702e3f5d321a"
      },
      "outputs": [
        {
          "output_type": "stream",
          "name": "stdout",
          "text": [
            "<class 'int'>\n",
            "<class 'float'>\n",
            "10 1.2\n",
            "11.2 8.8 12.0 8.333333333333334\n"
          ]
        }
      ],
      "source": [
        "a = 10\n",
        "b = 1.2\n",
        "print(type(a))\n",
        "print(type(b))\n",
        "print(a, b)\n",
        "print(a+b, a-b, a*b, a/b)\n"
      ]
    },
    {
      "cell_type": "markdown",
      "metadata": {
        "id": "kvJXeZFiv2jV"
      },
      "source": [
        "#### 문자형"
      ]
    },
    {
      "cell_type": "code",
      "execution_count": null,
      "metadata": {
        "colab": {
          "base_uri": "https://localhost:8080/"
        },
        "id": "nKTDqt00v1D-",
        "outputId": "70fa0e04-bf8e-4618-9c54-5a260cdb616b"
      },
      "outputs": [
        {
          "output_type": "stream",
          "name": "stdout",
          "text": [
            "Life is too short, You need Python\n"
          ]
        }
      ],
      "source": [
        "quote = \"Life is too short,\"\n",
        "print(quote, \"You need Python\")"
      ]
    },
    {
      "cell_type": "markdown",
      "metadata": {
        "id": "7huw5HclyJcm"
      },
      "source": [
        "#### 리스트/튜플\n",
        "\n",
        "1) 리스트"
      ]
    },
    {
      "cell_type": "code",
      "execution_count": null,
      "metadata": {
        "id": "2LLXs50xx82k"
      },
      "outputs": [],
      "source": [
        "odd = [1, 3, 5, 7, 9]\n",
        "alphabet = [\"abc\", \"def\", \"ghi\"]\n",
        "empty = []"
      ]
    },
    {
      "cell_type": "code",
      "execution_count": null,
      "metadata": {
        "colab": {
          "base_uri": "https://localhost:8080/"
        },
        "id": "huR7lrFw52gI",
        "outputId": "165da691-fdc1-4da0-fc72-c2b8473395a9"
      },
      "outputs": [
        {
          "output_type": "execute_result",
          "data": {
            "text/plain": [
              "3"
            ]
          },
          "metadata": {},
          "execution_count": 3
        }
      ],
      "source": [
        "odd[1]"
      ]
    },
    {
      "cell_type": "code",
      "execution_count": null,
      "metadata": {
        "colab": {
          "base_uri": "https://localhost:8080/"
        },
        "id": "8rAggCyu54eB",
        "outputId": "7f2dbb03-c896-4f44-edc3-e8da767e1c0c"
      },
      "outputs": [
        {
          "output_type": "stream",
          "name": "stdout",
          "text": [
            "alphabet[0]:  abc\n",
            "odd[-1]:  9\n",
            "odd[0:2]:  [1, 3]\n"
          ]
        }
      ],
      "source": [
        "print(\"alphabet[0]: \", alphabet[0])\n",
        "print(\"odd[-1]: \", odd[-1])\n",
        "print(\"odd[0:2]: \", odd[0:2])"
      ]
    },
    {
      "cell_type": "code",
      "execution_count": null,
      "metadata": {
        "colab": {
          "base_uri": "https://localhost:8080/"
        },
        "id": "DMazfIIg6OK0",
        "outputId": "5a1708c1-f18e-4623-ca2c-1179fba7d31c"
      },
      "outputs": [
        {
          "output_type": "stream",
          "name": "stdout",
          "text": [
            "['abc', 'def', 'ghi', 'A', ['B', 'c']]\n"
          ]
        }
      ],
      "source": [
        "alphabet.append(\"A\")\n",
        "alphabet.append([\"B\", \"c\"])\n",
        "print(alphabet)"
      ]
    },
    {
      "cell_type": "code",
      "execution_count": null,
      "metadata": {
        "colab": {
          "base_uri": "https://localhost:8080/"
        },
        "id": "LCZI5ux_7alg",
        "outputId": "aaaa41de-43b3-424b-dea6-bd23b1a0bc16"
      },
      "outputs": [
        {
          "output_type": "execute_result",
          "data": {
            "text/plain": [
              "[1, 2, '3']"
            ]
          },
          "metadata": {},
          "execution_count": 7
        }
      ],
      "source": [
        "empty.append(1)\n",
        "empty.append(2)\n",
        "empty.append('3')\n",
        "empty"
      ]
    },
    {
      "cell_type": "code",
      "execution_count": null,
      "metadata": {
        "colab": {
          "base_uri": "https://localhost:8080/"
        },
        "id": "_f1AzwAO76lT",
        "outputId": "52714427-e04b-419f-f44d-cc030172a98b"
      },
      "outputs": [
        {
          "output_type": "stream",
          "name": "stdout",
          "text": [
            "<class 'int'>\n",
            "<class 'str'>\n"
          ]
        }
      ],
      "source": [
        "print(type(empty[0]))\n",
        "print(type(empty[-1]))"
      ]
    },
    {
      "cell_type": "markdown",
      "metadata": {
        "id": "15GBUpzn8Vpw"
      },
      "source": [
        "2) 튜플\n",
        "\n",
        "*  list와 비슷하지만 요소값 생성, 삭제, 수정이 불가\n",
        "*  ()로 묶여 있음 (list의 경우 [])\n",
        "\n",
        "\n",
        "\n"
      ]
    },
    {
      "cell_type": "code",
      "execution_count": null,
      "metadata": {
        "id": "70gVio2R8Jvn"
      },
      "outputs": [],
      "source": [
        "t = (1, \"sogang\", 2, 3.5)"
      ]
    },
    {
      "cell_type": "code",
      "execution_count": null,
      "metadata": {
        "colab": {
          "base_uri": "https://localhost:8080/"
        },
        "id": "r8VY-cEy9qiX",
        "outputId": "cfa78491-9b2a-44cf-851f-7f794ff0d253"
      },
      "outputs": [
        {
          "output_type": "execute_result",
          "data": {
            "text/plain": [
              "(1, 'sogang', 2, 3.5)"
            ]
          },
          "metadata": {},
          "execution_count": 10
        }
      ],
      "source": [
        "t"
      ]
    },
    {
      "cell_type": "code",
      "execution_count": null,
      "metadata": {
        "colab": {
          "base_uri": "https://localhost:8080/"
        },
        "id": "HgnKiI_Y9rSK",
        "outputId": "8285f216-5ed0-4496-a0c0-e884e788137f"
      },
      "outputs": [
        {
          "output_type": "execute_result",
          "data": {
            "text/plain": [
              "tuple"
            ]
          },
          "metadata": {},
          "execution_count": 11
        }
      ],
      "source": [
        "type(t)"
      ]
    },
    {
      "cell_type": "code",
      "execution_count": null,
      "metadata": {
        "colab": {
          "base_uri": "https://localhost:8080/"
        },
        "id": "f7Wa1iWZ9uV9",
        "outputId": "c4550bdb-592c-4cc6-ca13-e4adf27893da"
      },
      "outputs": [
        {
          "output_type": "stream",
          "name": "stdout",
          "text": [
            "1\n",
            "sogang\n"
          ]
        }
      ],
      "source": [
        "print(t[0])\n",
        "print(t[1])"
      ]
    },
    {
      "cell_type": "code",
      "execution_count": null,
      "metadata": {
        "id": "CAzbHK6E9yyh"
      },
      "outputs": [],
      "source": [
        "t = t + (4, \"university\")"
      ]
    },
    {
      "cell_type": "code",
      "execution_count": null,
      "metadata": {
        "colab": {
          "base_uri": "https://localhost:8080/"
        },
        "id": "LAap4iVc99ld",
        "outputId": "aaabcdac-e75b-4485-adb2-2521cf734c1f"
      },
      "outputs": [
        {
          "output_type": "execute_result",
          "data": {
            "text/plain": [
              "(1, 'sogang', 2, 3.5, 4, 'university')"
            ]
          },
          "metadata": {},
          "execution_count": 14
        }
      ],
      "source": [
        "t"
      ]
    },
    {
      "cell_type": "code",
      "execution_count": null,
      "metadata": {
        "colab": {
          "base_uri": "https://localhost:8080/"
        },
        "id": "Tkw4XQBh9-0J",
        "outputId": "014cf2b7-88db-4f83-9f3b-6b45b8ed394c"
      },
      "outputs": [
        {
          "output_type": "execute_result",
          "data": {
            "text/plain": [
              "(1, 'sogang', 2, 3.5, 4, 'university', 1, 'sogang', 2, 3.5, 4, 'university')"
            ]
          },
          "metadata": {},
          "execution_count": 15
        }
      ],
      "source": [
        "t*2"
      ]
    },
    {
      "cell_type": "code",
      "execution_count": null,
      "metadata": {
        "id": "F0wkmjao-Grh"
      },
      "outputs": [],
      "source": [
        "t2 = ((1, 2), (\"sogang\", 3), (\"university, 4\"))"
      ]
    },
    {
      "cell_type": "code",
      "execution_count": null,
      "metadata": {
        "colab": {
          "base_uri": "https://localhost:8080/"
        },
        "id": "myY_hUoA-c69",
        "outputId": "aba68fb6-359b-4322-cd76-4cd455955f44"
      },
      "outputs": [
        {
          "output_type": "stream",
          "name": "stdout",
          "text": [
            "((1, 2), ('sogang', 3), 'university, 4')\n",
            "('sogang', 3)\n",
            "3\n"
          ]
        }
      ],
      "source": [
        "print(t2)\n",
        "print(t2[1])\n",
        "print(t2[1][1])"
      ]
    },
    {
      "cell_type": "markdown",
      "metadata": {
        "id": "m4kzFRam-tGE"
      },
      "source": [
        "#### 딕셔너리\n",
        "\n",
        "* Key와 Value를 한 쌍으로 갖는 자료형\n",
        "\n",
        "\n"
      ]
    },
    {
      "cell_type": "code",
      "execution_count": null,
      "metadata": {
        "colab": {
          "base_uri": "https://localhost:8080/"
        },
        "id": "OcPjHGyI-jHY",
        "outputId": "76a456a6-6139-48f9-f7e7-c25af7b5ceec"
      },
      "outputs": [
        {
          "output_type": "stream",
          "name": "stdout",
          "text": [
            "{'김철수': 80, '이영희': 90, '박아무개': 85}\n",
            "80\n",
            "dict_keys(['김철수', '이영희', '박아무개'])\n",
            "dict_values([80, 90, 85])\n"
          ]
        }
      ],
      "source": [
        "# Dictionary: {Key1:Value1, Key2:Value2, Key3:Value3, ....}\n",
        "\n",
        "dic = {\"김철수\":80, \"이영희\":90, \"박아무개\":85}\n",
        "print(dic)\n",
        "print(dic[\"김철수\"])\n",
        "print(dic.keys())\n",
        "print(dic.values())"
      ]
    },
    {
      "cell_type": "code",
      "execution_count": null,
      "metadata": {
        "colab": {
          "base_uri": "https://localhost:8080/"
        },
        "id": "cfEayc1W_BDx",
        "outputId": "0307517c-c916-4c26-e454-e929e6719ed1"
      },
      "outputs": [
        {
          "output_type": "stream",
          "name": "stdout",
          "text": [
            "{'김철수': 80, '이영희': 90, '박아무개': 85, '이름': 100}\n"
          ]
        }
      ],
      "source": [
        "dic[\"이름\"]=100\n",
        "print(dic)"
      ]
    },
    {
      "cell_type": "markdown",
      "metadata": {
        "id": "w1_QDZn9BCWl"
      },
      "source": [
        "## 1.2 제어문 (조건문 / 반복문)\n",
        "\n",
        "#### if문"
      ]
    },
    {
      "cell_type": "code",
      "execution_count": null,
      "metadata": {
        "colab": {
          "base_uri": "https://localhost:8080/"
        },
        "id": "-D2oGMHI_O8I",
        "outputId": "6f626267-ece7-44b7-fd00-303735f8767c"
      },
      "outputs": [
        {
          "output_type": "stream",
          "name": "stdout",
          "text": [
            "emtpy: [1, 2, '3']\n",
            "2 is an even number\n"
          ]
        }
      ],
      "source": [
        "print('emtpy:',empty)\n",
        "\n",
        "if empty[1]%2 == 0:\n",
        "  print(\"{} is an even number\".format(empty[1]))\n",
        "elif empty[1]%2 == 1:\n",
        "  print(\"{} is an odd number\".format(empty[1]))\n",
        "else:\n",
        "  print(\"Impossible\")"
      ]
    },
    {
      "cell_type": "markdown",
      "metadata": {
        "id": "4g_m-_N9BsBw"
      },
      "source": [
        "#### for문"
      ]
    },
    {
      "cell_type": "code",
      "execution_count": null,
      "metadata": {
        "colab": {
          "base_uri": "https://localhost:8080/"
        },
        "id": "_Kvw-vGKBRtD",
        "outputId": "d97424cc-bd44-451c-c4b7-a3355895891d"
      },
      "outputs": [
        {
          "output_type": "stream",
          "name": "stdout",
          "text": [
            "0\n",
            "1\n",
            "2\n",
            "3\n",
            "4\n"
          ]
        }
      ],
      "source": [
        "for i in range(5):\n",
        "  print(i)"
      ]
    },
    {
      "cell_type": "markdown",
      "metadata": {
        "id": "4Hk4qFasBzzI"
      },
      "source": [
        "#### while문"
      ]
    },
    {
      "cell_type": "code",
      "execution_count": null,
      "metadata": {
        "colab": {
          "base_uri": "https://localhost:8080/"
        },
        "id": "I8nJ-XFjBvHW",
        "outputId": "5c6110ec-09bf-4297-ecd6-dc4cb014d50c"
      },
      "outputs": [
        {
          "output_type": "stream",
          "name": "stdout",
          "text": [
            "0\n",
            "2\n",
            "4\n",
            "final value: 6\n"
          ]
        }
      ],
      "source": [
        "start = 0\n",
        "while start<5:\n",
        "  print(start)\n",
        "  start = start + 2\n",
        "\n",
        "print(\"final value: {}\".format(start))"
      ]
    },
    {
      "cell_type": "markdown",
      "metadata": {
        "id": "MS8sLJyhB9Nk"
      },
      "source": [
        "## 1.3 함수/클래스\n",
        "\n",
        "#### 함수"
      ]
    },
    {
      "cell_type": "code",
      "execution_count": null,
      "metadata": {
        "id": "QzZSfGFZB2ty"
      },
      "outputs": [],
      "source": [
        "def square_sum(a,b):\n",
        "  squared_a = a**2\n",
        "  squared_b = b**2\n",
        "  \n",
        "  return squared_a + squared_b"
      ]
    },
    {
      "cell_type": "code",
      "execution_count": null,
      "metadata": {
        "colab": {
          "base_uri": "https://localhost:8080/"
        },
        "id": "XDaDuZLyC0Et",
        "outputId": "1c125608-fc9c-4921-d793-66a75ce839c6"
      },
      "outputs": [
        {
          "output_type": "stream",
          "name": "stdout",
          "text": [
            "squared sum of 3 and 4 : 25\n"
          ]
        }
      ],
      "source": [
        "c = square_sum(3,4)\n",
        "print(\"squared sum of {} and {} : {}\".format(3, 4, c))"
      ]
    },
    {
      "cell_type": "markdown",
      "metadata": {
        "id": "UIeefqARC9I7"
      },
      "source": [
        "#### 클래스\n"
      ]
    },
    {
      "cell_type": "code",
      "execution_count": null,
      "metadata": {
        "id": "z6BQ_2ByC-KJ"
      },
      "outputs": [],
      "source": [
        "class Calculator():\n",
        "  def __init__(self):\n",
        "    self.description = \"Example for initalizing a Class\"\n",
        "    self.result = 0\n",
        "\n",
        "  def add_self(self, num):\n",
        "      self.result += num\n",
        "      return self.result\n",
        "\n",
        "  def add(self, num1, num2):\n",
        "    if type(num1) == int and type(num2) == int :\n",
        "      result = num1 + num2\n",
        "      return result\n",
        "    else:\n",
        "      raise Exception\n",
        "\n",
        "  def mul(self, num1, num2):\n",
        "    if type(num1) == int and type(num2) == int :\n",
        "      result = num1 * num2\n",
        "      return result\n",
        "    else:\n",
        "      raise Exception"
      ]
    },
    {
      "cell_type": "code",
      "execution_count": null,
      "metadata": {
        "colab": {
          "base_uri": "https://localhost:8080/"
        },
        "id": "FqtViF-fEOyc",
        "outputId": "ea3450fc-2d1f-42cc-aa1a-28372f53dc2b"
      },
      "outputs": [
        {
          "output_type": "stream",
          "name": "stdout",
          "text": [
            "Example for initalizing a Class\n",
            "7\n",
            "12\n"
          ]
        }
      ],
      "source": [
        "cal = Calculator()\n",
        "print(cal.description)\n",
        "print(cal.add(3,4))\n",
        "print(cal.mul(3,4))"
      ]
    },
    {
      "cell_type": "code",
      "source": [
        "cal1 = Calculator()\n",
        "cal2 = Calculator()\n",
        "\n",
        "print(cal1.add_self(3))\n",
        "print(cal1.add_self(4))\n",
        "print(cal2.add_self(3))\n",
        "print(cal2.add_self(7))"
      ],
      "metadata": {
        "colab": {
          "base_uri": "https://localhost:8080/"
        },
        "id": "06N3s6krg7o0",
        "outputId": "32541414-d68e-4415-e225-24f2f32e470e"
      },
      "execution_count": null,
      "outputs": [
        {
          "output_type": "stream",
          "name": "stdout",
          "text": [
            "3\n",
            "7\n",
            "3\n",
            "10\n"
          ]
        }
      ]
    },
    {
      "cell_type": "markdown",
      "metadata": {
        "id": "8KOuf1eYTpn6"
      },
      "source": [
        "## 1.4 패키지\n",
        "\n",
        "#### import"
      ]
    },
    {
      "cell_type": "code",
      "execution_count": null,
      "metadata": {
        "colab": {
          "base_uri": "https://localhost:8080/"
        },
        "id": "cp9l8o2UES3M",
        "outputId": "6c33942a-2aa2-402f-fbe5-3a9b907def70"
      },
      "outputs": [
        {
          "output_type": "stream",
          "name": "stdout",
          "text": [
            "[1 2 3] <class 'numpy.ndarray'>\n"
          ]
        }
      ],
      "source": [
        "import numpy as np\n",
        "\n",
        "array = np.array([1,2,3])\n",
        "print(array, type (array))"
      ]
    },
    {
      "cell_type": "markdown",
      "metadata": {
        "id": "L0vSTeXPUJK8"
      },
      "source": [
        "# **2. Pytorch**\n",
        "\n",
        "## 2.1 Tensors / Numpy"
      ]
    },
    {
      "cell_type": "code",
      "execution_count": 1,
      "metadata": {
        "id": "tCMlrt7uTurl"
      },
      "outputs": [],
      "source": [
        "import torch\n",
        "import numpy as np\n",
        "\n",
        "## colab의 경우, 대부분의 package install 필요 없음 (바로 import 가능)\n",
        "## 패키지 설치가 필요할 경우: 'pip install package_name'"
      ]
    },
    {
      "cell_type": "markdown",
      "metadata": {
        "id": "E1LUrvl1Uf5R"
      },
      "source": [
        "*   Python List: 행렬 연산을 위해 for 문 사용\n",
        "*   Numpy : 차원이 다른 행렬 간에도 연산이 가능\n",
        "*   Tensor : GPU 상에서 연산이 가능하고 autograd(자동 미분)연산 기능이 있는 자료형\n",
        "\n",
        "\n",
        "\n",
        "\n",
        "\n"
      ]
    },
    {
      "cell_type": "markdown",
      "metadata": {
        "id": "CC4VBkOAUxXy"
      },
      "source": [
        "#### Tensor 생성 및 초기화"
      ]
    },
    {
      "cell_type": "code",
      "execution_count": null,
      "metadata": {
        "colab": {
          "base_uri": "https://localhost:8080/"
        },
        "id": "4WOCjA8xUWxI",
        "outputId": "5b2cbb23-e740-4f2b-aa39-c0b75bcd7718"
      },
      "outputs": [
        {
          "output_type": "stream",
          "name": "stdout",
          "text": [
            "tensor([[7.5297e-35, 0.0000e+00, 3.3631e-44],\n",
            "        [0.0000e+00,        nan, 0.0000e+00],\n",
            "        [1.1578e+27, 1.1362e+30, 7.1547e+22],\n",
            "        [4.5828e+30, 1.2121e+04, 7.1846e+22],\n",
            "        [9.2198e-39, 7.0374e+22, 0.0000e+00]])\n"
          ]
        }
      ],
      "source": [
        "# 초기화되지 않은 행렬 생성\n",
        "x = torch.empty(5,3)\n",
        "print(x)"
      ]
    },
    {
      "cell_type": "code",
      "execution_count": null,
      "metadata": {
        "colab": {
          "base_uri": "https://localhost:8080/"
        },
        "id": "Ur4-lmrOU0yr",
        "outputId": "70575dee-18bb-4ba9-e859-3ca3c84071f1"
      },
      "outputs": [
        {
          "output_type": "stream",
          "name": "stdout",
          "text": [
            "tensor([[0.5498, 0.6239, 0.2978],\n",
            "        [0.4416, 0.6930, 0.7865],\n",
            "        [0.3544, 0.3722, 0.6243],\n",
            "        [0.6075, 0.7583, 0.2833],\n",
            "        [0.6206, 0.7540, 0.7340]])\n"
          ]
        }
      ],
      "source": [
        "# 0 ~ 1 사이의 랜덤 초기화 행렬 생성\n",
        "x = torch.rand(5,3)\n",
        "print(x)"
      ]
    },
    {
      "cell_type": "code",
      "execution_count": null,
      "metadata": {
        "colab": {
          "base_uri": "https://localhost:8080/"
        },
        "id": "kRf9p0y5U84T",
        "outputId": "bfad78eb-58c8-4ae9-9b48-8aba8df11caf"
      },
      "outputs": [
        {
          "output_type": "execute_result",
          "data": {
            "text/plain": [
              "tensor(0.5667)"
            ]
          },
          "metadata": {},
          "execution_count": 31
        }
      ],
      "source": [
        "x.mean()"
      ]
    },
    {
      "cell_type": "code",
      "execution_count": null,
      "metadata": {
        "colab": {
          "base_uri": "https://localhost:8080/"
        },
        "id": "xOfiwK4xVBu_",
        "outputId": "f8285554-65e6-4d2e-f851-6c06c4865c6b"
      },
      "outputs": [
        {
          "output_type": "execute_result",
          "data": {
            "text/plain": [
              "tensor(0.1746)"
            ]
          },
          "metadata": {},
          "execution_count": 32
        }
      ],
      "source": [
        "x.std()"
      ]
    },
    {
      "cell_type": "code",
      "execution_count": null,
      "metadata": {
        "colab": {
          "base_uri": "https://localhost:8080/"
        },
        "id": "Y2S7feVGVD2L",
        "outputId": "07afafac-17fe-4e48-a121-624db9b2686e"
      },
      "outputs": [
        {
          "output_type": "stream",
          "name": "stdout",
          "text": [
            "tensor([[ 0.7470,  0.3093,  0.2438],\n",
            "        [-1.5035, -0.0574, -1.0508],\n",
            "        [ 1.1320,  1.0337,  0.9516],\n",
            "        [-0.3539,  0.1553, -0.0200],\n",
            "        [-0.7523, -1.4789,  0.6002]])\n"
          ]
        }
      ],
      "source": [
        "# Standard Normal Distribution에서 랜덤 초기화 행렬 생성\n",
        "x = torch.randn(5,3)\n",
        "print(x)"
      ]
    },
    {
      "cell_type": "code",
      "execution_count": null,
      "metadata": {
        "colab": {
          "base_uri": "https://localhost:8080/"
        },
        "id": "0AdTuuPxVHVE",
        "outputId": "80ae175e-7bc9-4034-9533-198f48d924c5"
      },
      "outputs": [
        {
          "output_type": "execute_result",
          "data": {
            "text/plain": [
              "tensor(-0.0029)"
            ]
          },
          "metadata": {},
          "execution_count": 34
        }
      ],
      "source": [
        "x.mean()"
      ]
    },
    {
      "cell_type": "code",
      "execution_count": null,
      "metadata": {
        "colab": {
          "base_uri": "https://localhost:8080/"
        },
        "id": "fOUsB0NdVJzj",
        "outputId": "b2011bf5-23a5-44f0-f440-123bac092c89"
      },
      "outputs": [
        {
          "output_type": "execute_result",
          "data": {
            "text/plain": [
              "tensor(0.8701)"
            ]
          },
          "metadata": {},
          "execution_count": 35
        }
      ],
      "source": [
        "x.std()"
      ]
    },
    {
      "cell_type": "code",
      "execution_count": null,
      "metadata": {
        "colab": {
          "base_uri": "https://localhost:8080/"
        },
        "id": "AtAy5ZAsVLXL",
        "outputId": "c5fe574e-cd12-49f8-91ab-5837cd331758"
      },
      "outputs": [
        {
          "output_type": "execute_result",
          "data": {
            "text/plain": [
              "tensor([[1.2000, 4.5000],\n",
              "        [1.0000, 2.0000]])"
            ]
          },
          "metadata": {},
          "execution_count": 36
        }
      ],
      "source": [
        "# 특정 값을 tensor로 만들기\n",
        "x = torch.tensor([[1.2, 4.5],[1, 2]])\n",
        "x"
      ]
    },
    {
      "cell_type": "markdown",
      "metadata": {
        "id": "fULxqvYuVnKL"
      },
      "source": [
        "#### Tensor size & Numpy 변환"
      ]
    },
    {
      "cell_type": "code",
      "execution_count": null,
      "metadata": {
        "colab": {
          "base_uri": "https://localhost:8080/"
        },
        "id": "mqS4wcXGVM9n",
        "outputId": "aa1812d5-6d95-44f5-8388-b7aafeacae8e"
      },
      "outputs": [
        {
          "output_type": "stream",
          "name": "stdout",
          "text": [
            "tensor([[ 0.0313,  0.4437,  1.1600,  1.9386],\n",
            "        [-0.4662,  0.8977,  0.1261,  0.4639],\n",
            "        [-1.1857, -0.8035,  0.1835,  1.2105]])\n",
            "x size :  torch.Size([3, 4])\n"
          ]
        }
      ],
      "source": [
        "# Size 확인\n",
        "x = torch.randn(3,4)\n",
        "print(x)\n",
        "print(\"x size : \", x.size())"
      ]
    },
    {
      "cell_type": "code",
      "execution_count": null,
      "metadata": {
        "colab": {
          "base_uri": "https://localhost:8080/"
        },
        "id": "3XV2-LWWVrly",
        "outputId": "1379d95a-19be-420c-dd26-1fdfdbd5e1b7"
      },
      "outputs": [
        {
          "output_type": "stream",
          "name": "stdout",
          "text": [
            "tensor([[0.7158, 0.6342, 0.5832, 0.6723],\n",
            "        [0.9454, 0.1631, 0.1289, 0.4018],\n",
            "        [0.8391, 0.7279, 0.4907, 0.1821]]) torch.Size([3, 4]) \n",
            " tensor([[0.7158, 0.6342, 0.5832],\n",
            "        [0.6723, 0.9454, 0.1631],\n",
            "        [0.1289, 0.4018, 0.8391],\n",
            "        [0.7279, 0.4907, 0.1821]]) torch.Size([4, 3]) \n",
            " tensor([[0.7158, 0.6342],\n",
            "        [0.5832, 0.6723],\n",
            "        [0.9454, 0.1631],\n",
            "        [0.1289, 0.4018],\n",
            "        [0.8391, 0.7279],\n",
            "        [0.4907, 0.1821]]) torch.Size([6, 2])\n"
          ]
        }
      ],
      "source": [
        "# Resize - \"reshape\" : any tensor\n",
        "x = torch.rand(3,4)\n",
        "y = x.reshape(4,3)\n",
        "z = x.reshape(-1, 2)\n",
        "print(x, x.size(), \"\\n\", y, y.size(), \"\\n\", z, z.size())"
      ]
    },
    {
      "cell_type": "code",
      "execution_count": null,
      "metadata": {
        "colab": {
          "base_uri": "https://localhost:8080/"
        },
        "id": "6aRCkECxVu3y",
        "outputId": "75b4359a-a4ba-422d-ff9d-c16e0d1fdb54"
      },
      "outputs": [
        {
          "output_type": "stream",
          "name": "stdout",
          "text": [
            "tensor([[-1.4637,  0.6352,  2.5115,  0.0312],\n",
            "        [ 1.0727,  0.5465, -0.3926,  0.2256],\n",
            "        [-0.0423, -2.0853, -1.1514,  0.9661]]) torch.Size([3, 4]) \n",
            " tensor([[-1.4637,  0.6352,  2.5115],\n",
            "        [ 0.0312,  1.0727,  0.5465],\n",
            "        [-0.3926,  0.2256, -0.0423],\n",
            "        [-2.0853, -1.1514,  0.9661]]) torch.Size([4, 3]) \n",
            " tensor([[-1.4637,  0.6352],\n",
            "        [ 2.5115,  0.0312],\n",
            "        [ 1.0727,  0.5465],\n",
            "        [-0.3926,  0.2256],\n",
            "        [-0.0423, -2.0853],\n",
            "        [-1.1514,  0.9661]]) torch.Size([6, 2])\n"
          ]
        }
      ],
      "source": [
        "# Resize - \"view\" : for contiguous tensors\n",
        "x = torch.randn(3,4) # Normal distribution\n",
        "y = x.view(4,3)\n",
        "z = x.view(-1, 2)\n",
        "print(x, x.size(), \"\\n\", y, y.size(), \"\\n\", z, z.size())"
      ]
    },
    {
      "cell_type": "code",
      "execution_count": null,
      "metadata": {
        "colab": {
          "base_uri": "https://localhost:8080/"
        },
        "id": "pHUvkDGcV7zm",
        "outputId": "23aace9b-26e5-4a1f-8baf-92bed0a69f20"
      },
      "outputs": [
        {
          "output_type": "stream",
          "name": "stdout",
          "text": [
            "tensor([1., 1., 1., 1., 1.]) <class 'torch.Tensor'>\n",
            "[1. 1. 1. 1. 1.] <class 'numpy.ndarray'>\n"
          ]
        }
      ],
      "source": [
        "# Tensor to numpy\n",
        "x = torch.ones(5)\n",
        "y = x.numpy()\n",
        "print(x, type(x))\n",
        "print(y, type(y))"
      ]
    },
    {
      "cell_type": "code",
      "execution_count": null,
      "metadata": {
        "colab": {
          "base_uri": "https://localhost:8080/"
        },
        "id": "pCy8CGY_V_P2",
        "outputId": "3257c693-df54-4b01-b06b-3448326e7f5a"
      },
      "outputs": [
        {
          "output_type": "stream",
          "name": "stdout",
          "text": [
            "[1. 1. 1. 1. 1.] <class 'numpy.ndarray'>\n",
            "tensor([1., 1., 1., 1., 1.], dtype=torch.float64) <class 'torch.Tensor'>\n"
          ]
        }
      ],
      "source": [
        "# Numpy to tensor\n",
        "x = np.ones(5)\n",
        "y = torch.from_numpy(x)\n",
        "print(x, type(x))\n",
        "print(y, type(y))"
      ]
    },
    {
      "cell_type": "code",
      "execution_count": null,
      "metadata": {
        "colab": {
          "base_uri": "https://localhost:8080/"
        },
        "id": "sTYMIK-SWIFW",
        "outputId": "14487d6f-8e64-4808-8f06-ba51eadcbcf6"
      },
      "outputs": [
        {
          "output_type": "stream",
          "name": "stdout",
          "text": [
            "tensor([1., 1., 1., 1., 1.])\n",
            "tensor([1., 1., 1., 1., 1.], device='cuda:0')\n"
          ]
        }
      ],
      "source": [
        "# GPU 연산을 위한 CUDA tensor\n",
        "x = torch.ones(5)\n",
        "y = x.to(device=\"cuda:0\") #런타임 연결 gpu로 설정\n",
        "print(x)\n",
        "print(y)"
      ]
    },
    {
      "cell_type": "markdown",
      "metadata": {
        "id": "qlVtSpdhWm9Z"
      },
      "source": [
        "#### Tensor Autograd\n",
        "\n",
        "* requires_grad를 true로 세팅하면 tensor에 대한 모든 연산 추적 가능\n",
        "\n",
        "* 이를 통해 forward propagation 후, .backward() 호출 시 모든 gradient 자동으로 계산"
      ]
    },
    {
      "cell_type": "code",
      "execution_count": 16,
      "metadata": {
        "colab": {
          "base_uri": "https://localhost:8080/"
        },
        "id": "H_4jJj4cWKKi",
        "outputId": "60c6e573-4d05-4962-deca-6017faa99890"
      },
      "outputs": [
        {
          "output_type": "stream",
          "name": "stdout",
          "text": [
            "tensor([[1., 2.],\n",
            "        [3., 4.]], requires_grad=True)\n",
            "tensor([[ 27.,  48.],\n",
            "        [ 75., 108.]], grad_fn=<MulBackward0>)\n",
            "tensor(258., grad_fn=<SumBackward0>)\n",
            "tensor([[18., 24.],\n",
            "        [30., 36.]])\n"
          ]
        }
      ],
      "source": [
        "x = torch.tensor(([1., 2.], [3., 4.]), requires_grad=True)\n",
        "print(x)\n",
        "y = 3*(x+2)**2\n",
        "print(y)\n",
        "\n",
        "out = y.sum()\n",
        "print(out)\n",
        "\n",
        "out.backward()\n",
        "print(x.grad)"
      ]
    },
    {
      "cell_type": "markdown",
      "metadata": {
        "id": "-bveAnrIWlQR"
      },
      "source": [
        "## 2.2 Pytorch Project\n",
        "\n",
        " #### 2.2.1 Load data\n",
        "\n",
        " https://www.cs.toronto.edu/~kriz/cifar.html"
      ]
    },
    {
      "cell_type": "code",
      "execution_count": 18,
      "metadata": {
        "id": "c7LVdvYtW1pq"
      },
      "outputs": [],
      "source": [
        "import torchvision # to download 'CIFAR10' datasest\n",
        "import torchvision.transforms as transforms  # to manipulate input data"
      ]
    },
    {
      "cell_type": "code",
      "execution_count": 19,
      "metadata": {
        "colab": {
          "base_uri": "https://localhost:8080/",
          "height": 86,
          "referenced_widgets": [
            "056a70f70e25463eba069cc81dc509a3",
            "33b2eb8737c8452d8c265c7b5b3bd2c1",
            "2c39dabf252340dca971ae2721f95053",
            "b5bab5f37cae40c2b7217455cd3ec1c5",
            "39ca8dc380164903b35d9d022cda1fff",
            "83c065a255b64cdfabbfaad466f7648f",
            "e0e7c719c4fb46f08a283d7b15cf20c2",
            "cb6db05f9dcb47179b82e3761a2e2f61",
            "40f375e0283b47deb19d03d490a15adc",
            "5657f8e1093d42c297e2c337c2c01288",
            "6561f8ff35a04d02aeb757b641f385ca"
          ]
        },
        "id": "D7R5ZIVvW3eK",
        "outputId": "a9a09efc-6cfd-4cc3-80f4-011f03cd1db3"
      },
      "outputs": [
        {
          "output_type": "stream",
          "name": "stdout",
          "text": [
            "Downloading https://www.cs.toronto.edu/~kriz/cifar-10-python.tar.gz to ./datasets/cifar-10-python.tar.gz\n"
          ]
        },
        {
          "output_type": "display_data",
          "data": {
            "text/plain": [
              "  0%|          | 0/170498071 [00:00<?, ?it/s]"
            ],
            "application/vnd.jupyter.widget-view+json": {
              "version_major": 2,
              "version_minor": 0,
              "model_id": "056a70f70e25463eba069cc81dc509a3"
            }
          },
          "metadata": {}
        },
        {
          "output_type": "stream",
          "name": "stdout",
          "text": [
            "Extracting ./datasets/cifar-10-python.tar.gz to ./datasets\n"
          ]
        }
      ],
      "source": [
        "train_data = torchvision.datasets.CIFAR10(root='./datasets',\n",
        "                                          train=True,\n",
        "                                          transform=transforms.ToTensor(),\n",
        "                                          download=True)"
      ]
    },
    {
      "cell_type": "code",
      "execution_count": 20,
      "metadata": {
        "colab": {
          "base_uri": "https://localhost:8080/"
        },
        "id": "kH6GEhLWW5AW",
        "outputId": "72addfc6-0356-4b73-ff6f-b8ea1871e0f9"
      },
      "outputs": [
        {
          "output_type": "stream",
          "name": "stdout",
          "text": [
            "50000 torch.Size([3, 32, 32]) 6\n"
          ]
        }
      ],
      "source": [
        "# data check\n",
        "image, label = train_data[0]\n",
        "print(len(train_data), image.size(), label)"
      ]
    },
    {
      "cell_type": "code",
      "execution_count": 21,
      "metadata": {
        "id": "NKoT611wW8eW"
      },
      "outputs": [],
      "source": [
        "import matplotlib\n",
        "import matplotlib.pyplot as plt"
      ]
    },
    {
      "cell_type": "code",
      "execution_count": 22,
      "metadata": {
        "colab": {
          "base_uri": "https://localhost:8080/",
          "height": 137
        },
        "id": "Yj0qesaHW-Hi",
        "outputId": "888238bb-849c-4ae6-a3e0-b7c502db97a6"
      },
      "outputs": [
        {
          "output_type": "display_data",
          "data": {
            "text/plain": [
              "<Figure size 432x288 with 1 Axes>"
            ],
            "image/png": "[encoded data removed]"
          },
          "metadata": {
            "needs_background": "light"
          }
        }
      ],
      "source": [
        "plt.subplot(141)\n",
        "plt.imshow(image.permute(2,1,0))\n",
        "plt.title(label)\n",
        "plt.show()"
      ]
    },
    {
      "cell_type": "markdown",
      "metadata": {
        "id": "eJFYX7VoXCKb"
      },
      "source": [
        "####2.2.2. Define Dataloader\n",
        "\n",
        "define dataloader (dataloader loads data from queue while iters loop)"
      ]
    },
    {
      "cell_type": "code",
      "execution_count": 23,
      "metadata": {
        "id": "TkRzZWczW_cK"
      },
      "outputs": [],
      "source": [
        "import torch"
      ]
    },
    {
      "cell_type": "code",
      "execution_count": 24,
      "metadata": {
        "id": "H6aOO-lWXGBi"
      },
      "outputs": [],
      "source": [
        "data_loader = torch.utils.data.DataLoader(dataset=train_data,\n",
        "                                          batch_size=64,\n",
        "                                          shuffle=True)"
      ]
    },
    {
      "cell_type": "code",
      "execution_count": 29,
      "metadata": {
        "colab": {
          "base_uri": "https://localhost:8080/"
        },
        "id": "HOt_CoHsXHXe",
        "outputId": "2904e708-e16d-428b-9050-a0e541fa06d3"
      },
      "outputs": [
        {
          "output_type": "stream",
          "name": "stdout",
          "text": [
            "782\n",
            "torch.Size([3, 32, 32]) 64 tensor([8, 1, 7, 3, 4, 8, 9, 3, 3, 5, 0, 7, 1, 1, 5, 4, 8, 3, 0, 9, 7, 0, 8, 8,\n",
            "        1, 0, 5, 0, 4, 8, 7, 0, 4, 8, 5, 6, 4, 2, 9, 8, 3, 6, 9, 7, 4, 9, 3, 9,\n",
            "        5, 6, 7, 7, 1, 1, 4, 3, 3, 3, 6, 8, 7, 3, 9, 1])\n",
            "torch.Size([3, 32, 32]) 64 tensor([9, 8, 8, 7, 7, 6, 5, 2, 3, 0, 4, 4, 8, 5, 0, 8, 4, 0, 8, 2, 4, 1, 2, 6,\n",
            "        4, 3, 4, 5, 3, 4, 5, 7, 9, 2, 2, 6, 9, 7, 1, 1, 5, 6, 1, 0, 8, 7, 1, 2,\n",
            "        7, 3, 6, 5, 8, 5, 6, 1, 9, 8, 4, 3, 5, 4, 0, 6])\n",
            "torch.Size([3, 32, 32]) 64 tensor([7, 1, 8, 8, 9, 1, 6, 1, 6, 8, 2, 4, 5, 7, 3, 9, 9, 3, 9, 0, 4, 1, 5, 8,\n",
            "        9, 7, 7, 7, 6, 9, 0, 0, 5, 5, 1, 6, 8, 0, 6, 6, 9, 4, 8, 0, 5, 3, 0, 0,\n",
            "        3, 6, 0, 5, 9, 8, 5, 4, 0, 3, 7, 2, 5, 2, 6, 6])\n"
          ]
        }
      ],
      "source": [
        "# check how data loader works\n",
        "print(len(data_loader))\n",
        "for idx, (images, labels) in enumerate(data_loader):\n",
        "  if idx ==3:\n",
        "    break\n",
        "\n",
        "  print(image.size(), len(images), labels)"
      ]
    },
    {
      "cell_type": "markdown",
      "metadata": {
        "id": "--TS1P9eXMno"
      },
      "source": [
        "#### 2.2.3. Define Model"
      ]
    },
    {
      "cell_type": "code",
      "execution_count": null,
      "metadata": {
        "id": "VCyFXKAkXIpm"
      },
      "outputs": [],
      "source": [
        "import torch.nn as nn\n",
        "import torch.nn.functional as F"
      ]
    },
    {
      "cell_type": "code",
      "execution_count": null,
      "metadata": {
        "id": "wUDLpAsgXQBm"
      },
      "outputs": [],
      "source": [
        "class Net(nn.Module):\n",
        "  def __init__(self):\n",
        "    super(Net, self).__init__()\n",
        "    self.layer1 = nn.Sequential(\n",
        "        nn.Conv2d(3,6,5),\n",
        "        nn.BatchNorm2d(6),\n",
        "        nn.ReLU(),\n",
        "        nn.MaxPool2d(2,2)\n",
        "    )\n",
        "    self.fc = nn.Linear(6*14*14, 10)\n",
        "\n",
        "\n",
        "  def forward(self, x):\n",
        "    out = self.layer1(x)\n",
        "    out = out.reshape(out.size(0),-1)\n",
        "    out = self.fc(out)\n",
        "\n",
        "    return out\n",
        "\n",
        "model = Net()"
      ]
    },
    {
      "cell_type": "code",
      "execution_count": null,
      "metadata": {
        "colab": {
          "base_uri": "https://localhost:8080/"
        },
        "id": "RS_hN1GuXRwO",
        "outputId": "f8a17fe1-1eda-4a88-b916-ad088f93009c"
      },
      "outputs": [
        {
          "output_type": "stream",
          "name": "stdout",
          "text": [
            "Net(\n",
            "  (layer1): Sequential(\n",
            "    (0): Conv2d(3, 6, kernel_size=(5, 5), stride=(1, 1))\n",
            "    (1): BatchNorm2d(6, eps=1e-05, momentum=0.1, affine=True, track_running_stats=True)\n",
            "    (2): ReLU()\n",
            "    (3): MaxPool2d(kernel_size=2, stride=2, padding=0, dilation=1, ceil_mode=False)\n",
            "  )\n",
            "  (fc): Linear(in_features=1176, out_features=10, bias=True)\n",
            ")\n"
          ]
        }
      ],
      "source": [
        "# check which layers constitue Network\n",
        "print(model)"
      ]
    },
    {
      "cell_type": "markdown",
      "metadata": {
        "id": "gAWwy7eDXb0-"
      },
      "source": [
        "#### 2.2.4. Set Loss & Optimizer"
      ]
    },
    {
      "cell_type": "code",
      "execution_count": null,
      "metadata": {
        "id": "ip9EuL7KXU2C"
      },
      "outputs": [],
      "source": [
        "criterion = nn.CrossEntropyLoss()\n",
        "optimizer = torch.optim.SGD(model.parameters(), lr=0.001)"
      ]
    },
    {
      "cell_type": "code",
      "execution_count": null,
      "metadata": {
        "colab": {
          "base_uri": "https://localhost:8080/"
        },
        "id": "3eAo2ZETXgPN",
        "outputId": "f408a609-cb13-4cfc-fd88-954914e34f5c"
      },
      "outputs": [
        {
          "output_type": "stream",
          "name": "stdout",
          "text": [
            "Epoch [1/1], Step [1/782], Loss: 2.4325\n",
            "Epoch [1/1], Step [51/782], Loss: 2.3391\n",
            "Epoch [1/1], Step [101/782], Loss: 2.2024\n",
            "Epoch [1/1], Step [151/782], Loss: 2.1538\n",
            "Epoch [1/1], Step [201/782], Loss: 2.1824\n",
            "Epoch [1/1], Step [251/782], Loss: 2.0834\n",
            "Epoch [1/1], Step [301/782], Loss: 2.0174\n",
            "Epoch [1/1], Step [351/782], Loss: 2.0241\n",
            "Epoch [1/1], Step [401/782], Loss: 2.0085\n",
            "Epoch [1/1], Step [451/782], Loss: 1.9452\n",
            "Epoch [1/1], Step [501/782], Loss: 1.9895\n",
            "Epoch [1/1], Step [551/782], Loss: 1.9187\n",
            "Epoch [1/1], Step [601/782], Loss: 2.0807\n",
            "Epoch [1/1], Step [651/782], Loss: 1.8563\n",
            "Epoch [1/1], Step [701/782], Loss: 1.9364\n",
            "Epoch [1/1], Step [751/782], Loss: 1.7919\n",
            "Epoch [1/1], Step [782/782], Loss: 1.9517\n"
          ]
        }
      ],
      "source": [
        "epochs = 1\n",
        "for epoch in range(epochs):\n",
        "  for i, (images, labels) in enumerate(data_loader):\n",
        "    # Forward Propagate\n",
        "    outputs = model(images)\n",
        "\n",
        "    # Get Loss, Compute Gradients, Update Parameters\n",
        "    loss = criterion(outputs, labels)\n",
        "    optimizer.zero_grad()\n",
        "    loss.backward()\n",
        "    optimizer.step()\n",
        "\n",
        "    if i % 50 == 0 or (i+1)==len(data_loader):\n",
        "      print('Epoch [{}/{}], Step [{}/{}], Loss: {:.4f}'.format(epoch+1, epochs, i+1, len(data_loader), loss.item()))"
      ]
    },
    {
      "cell_type": "markdown",
      "metadata": {
        "id": "KSLjfv5fXn_K"
      },
      "source": [
        "#### 2.2.6. Save & Visualization"
      ]
    },
    {
      "cell_type": "code",
      "execution_count": null,
      "metadata": {
        "id": "lpTTFHHjXiMx"
      },
      "outputs": [],
      "source": [
        "torch.save(model.state_dict(), 'my_model.pth')"
      ]
    },
    {
      "cell_type": "code",
      "execution_count": null,
      "metadata": {
        "colab": {
          "base_uri": "https://localhost:8080/"
        },
        "id": "mtULD6RvXr02",
        "outputId": "8ff21b05-0dd9-4212-b151-3c1af819a486"
      },
      "outputs": [
        {
          "output_type": "stream",
          "name": "stdout",
          "text": [
            "datasets  my_model.pth\tsample_data\n"
          ]
        }
      ],
      "source": [
        "# check the saved model\n",
        "! ls"
      ]
    },
    {
      "cell_type": "markdown",
      "metadata": {
        "id": "G-MnVXJnX1Mu"
      },
      "source": [
        "#**3. XOR in pytorch**"
      ]
    },
    {
      "cell_type": "code",
      "execution_count": null,
      "metadata": {
        "id": "D8qVGi7cXvYN"
      },
      "outputs": [],
      "source": [
        "import numpy as np\n",
        "import torch\n",
        "import torch.nn as nn\n",
        "import matplotlib.pyplot as plt"
      ]
    },
    {
      "cell_type": "code",
      "execution_count": null,
      "metadata": {
        "id": "qebOJqp5X5dF"
      },
      "outputs": [],
      "source": [
        "x = torch.tensor([[0.,0.],[0.,1.], [1.,0.], [1.,1.]])\n",
        "y = torch.tensor([0.,1.,1.,0.]).view(-1,1)"
      ]
    },
    {
      "cell_type": "code",
      "execution_count": null,
      "metadata": {
        "colab": {
          "base_uri": "https://localhost:8080/"
        },
        "id": "P5Y1-CndX6x1",
        "outputId": "0d94ad95-8ced-46c6-9bc0-f9d4e71aaea1"
      },
      "outputs": [
        {
          "output_type": "execute_result",
          "data": {
            "text/plain": [
              "tensor([[0.],\n",
              "        [1.],\n",
              "        [1.],\n",
              "        [0.]])"
            ]
          },
          "metadata": {},
          "execution_count": 61
        }
      ],
      "source": [
        "y"
      ]
    },
    {
      "cell_type": "code",
      "execution_count": null,
      "metadata": {
        "id": "fs4rRHnOX8L9"
      },
      "outputs": [],
      "source": [
        "class XOR_net(nn.Module):\n",
        "  def __init__(self):\n",
        "    super(XOR_net, self).__init__()\n",
        "    self.layer1 = nn.Sequential(\n",
        "        nn.Linear(2,1),\n",
        "        nn.Tanh()\n",
        "    )\n",
        "    self.layer2 = nn.Sequential(\n",
        "        nn.Linear(2,3),\n",
        "        nn.Tanh(),\n",
        "        nn.Linear(3,1),\n",
        "        nn.Tanh()\n",
        "    )\n",
        "\n",
        "  def forward(self, input, num_layer):\n",
        "    if num_layer == 1:\n",
        "      out = self.layer1(input)\n",
        "    elif num_layer == 2:\n",
        "      out = self.layer2(input)\n",
        "    else:\n",
        "      print(\"out of range\")\n",
        "      raise\n",
        "    return out"
      ]
    },
    {
      "cell_type": "code",
      "execution_count": null,
      "metadata": {
        "id": "1qzqLjpbX-Jp"
      },
      "outputs": [],
      "source": [
        "net = XOR_net()"
      ]
    },
    {
      "cell_type": "code",
      "execution_count": null,
      "metadata": {
        "colab": {
          "base_uri": "https://localhost:8080/"
        },
        "id": "zfpHxm8iYADV",
        "outputId": "6d70e05c-633c-47d0-97b4-a9303022d4f4"
      },
      "outputs": [
        {
          "output_type": "stream",
          "name": "stdout",
          "text": [
            "XOR_net(\n",
            "  (layer1): Sequential(\n",
            "    (0): Linear(in_features=2, out_features=1, bias=True)\n",
            "    (1): Tanh()\n",
            "  )\n",
            "  (layer2): Sequential(\n",
            "    (0): Linear(in_features=2, out_features=3, bias=True)\n",
            "    (1): Tanh()\n",
            "    (2): Linear(in_features=3, out_features=1, bias=True)\n",
            "    (3): Tanh()\n",
            "  )\n",
            ")\n"
          ]
        }
      ],
      "source": [
        "print(net)"
      ]
    },
    {
      "cell_type": "code",
      "execution_count": null,
      "metadata": {
        "id": "paY88zBlYBSd"
      },
      "outputs": [],
      "source": [
        "learning_rate = 0.05\n",
        "epochs = 10000"
      ]
    },
    {
      "cell_type": "code",
      "execution_count": null,
      "metadata": {
        "id": "VLx0MC3UYCxm"
      },
      "outputs": [],
      "source": [
        "criterion = nn.MSELoss()\n",
        "optimizer = torch.optim.SGD(net.parameters(), lr = learning_rate)"
      ]
    },
    {
      "cell_type": "code",
      "execution_count": null,
      "metadata": {
        "id": "fxE3Zu0NYEGh"
      },
      "outputs": [],
      "source": [
        "error1, error2 = [], []"
      ]
    },
    {
      "cell_type": "code",
      "execution_count": null,
      "metadata": {
        "colab": {
          "base_uri": "https://localhost:8080/"
        },
        "id": "Ck6AnJ-9YFSZ",
        "outputId": "f2c52fa1-f7ce-4a26-d4fe-82fcb63c8c17"
      },
      "outputs": [
        {
          "output_type": "stream",
          "name": "stdout",
          "text": [
            "Epoch [1/10000] Loss1: 0.0042 Loss2: 0.2062\n",
            "Epoch [501/10000] Loss1: 0.3181 Loss2: 0.0000\n",
            "Epoch [1001/10000] Loss1: 0.3032 Loss2: 0.0000\n",
            "Epoch [1501/10000] Loss1: 0.3016 Loss2: 0.0000\n",
            "Epoch [2001/10000] Loss1: 0.3014 Loss2: 0.0000\n",
            "Epoch [2501/10000] Loss1: 0.3014 Loss2: 0.0000\n",
            "Epoch [3001/10000] Loss1: 0.3014 Loss2: 0.0000\n",
            "Epoch [3501/10000] Loss1: 0.3014 Loss2: 0.0000\n",
            "Epoch [4001/10000] Loss1: 0.3014 Loss2: 0.0000\n",
            "Epoch [4501/10000] Loss1: 0.3014 Loss2: 0.0000\n",
            "Epoch [5001/10000] Loss1: 0.3014 Loss2: 0.0000\n",
            "Epoch [5501/10000] Loss1: 0.3014 Loss2: 0.0000\n",
            "Epoch [6001/10000] Loss1: 0.3014 Loss2: 0.0000\n",
            "Epoch [6501/10000] Loss1: 0.3014 Loss2: 0.0000\n",
            "Epoch [7001/10000] Loss1: 0.3014 Loss2: 0.0000\n",
            "Epoch [7501/10000] Loss1: 0.3014 Loss2: 0.0000\n",
            "Epoch [8001/10000] Loss1: 0.3014 Loss2: 0.0000\n",
            "Epoch [8501/10000] Loss1: 0.3014 Loss2: 0.0000\n",
            "Epoch [9001/10000] Loss1: 0.3014 Loss2: 0.0000\n",
            "Epoch [9501/10000] Loss1: 0.3014 Loss2: 0.0000\n",
            "Epoch [10000/10000] Loss1: 0.3014 Loss2: 0.0000\n"
          ]
        }
      ],
      "source": [
        "for epoch in range(epochs):\n",
        "  for i, (input, ans) in enumerate(zip(x,y)):\n",
        "    output1 = net(input,1)\n",
        "    output2 = net(input,2)\n",
        "\n",
        "    loss1 = criterion(output1, ans)\n",
        "    loss2 = criterion(output2, ans)\n",
        "\n",
        "    optimizer.zero_grad()\n",
        "    loss1.backward()\n",
        "    loss2.backward()\n",
        "    optimizer.step()\n",
        "\n",
        "    error1.append(loss1.detach().numpy())\n",
        "    error2.append(loss2.detach().numpy())\n",
        "\n",
        "  if epoch % 500 == 0 or (epoch+1)==epochs:\n",
        "    print('Epoch [{}/{}] Loss1: {:.4f} Loss2: {:.4f}'.format(epoch+1, epochs, loss1, loss2))"
      ]
    },
    {
      "cell_type": "code",
      "source": [
        "# Test after train (Tanh, MSELoss)\n",
        "for input, target in zip (x, y):\n",
        "  output1 = net(input,1)\n",
        "  output2 = net(input,2)\n",
        "  print(\"input: \",input, \"layer1: \", output1.data, \"\\tlayer2: \", output2.data, \"\\tanswer:\", target)"
      ],
      "metadata": {
        "colab": {
          "base_uri": "https://localhost:8080/"
        },
        "id": "Xj2UYbwZLrY9",
        "outputId": "e37623fb-a99e-4296-dad8-3da66a708485"
      },
      "execution_count": null,
      "outputs": [
        {
          "output_type": "stream",
          "name": "stdout",
          "text": [
            "input:  tensor([0., 0.]) layer1:  tensor([0.5490]) \tlayer2:  tensor([0.0001]) \tanswer: tensor([0.])\n",
            "input:  tensor([0., 1.]) layer1:  tensor([0.5217]) \tlayer2:  tensor([0.9906]) \tanswer: tensor([1.])\n",
            "input:  tensor([1., 0.]) layer1:  tensor([0.4932]) \tlayer2:  tensor([0.9901]) \tanswer: tensor([1.])\n",
            "input:  tensor([1., 1.]) layer1:  tensor([0.4636]) \tlayer2:  tensor([2.6226e-05]) \tanswer: tensor([0.])\n"
          ]
        }
      ]
    },
    {
      "cell_type": "code",
      "source": [
        "plt.plot(error1)\n",
        "plt.title(\"Layer1 error\")\n",
        "plt.show()"
      ],
      "metadata": {
        "colab": {
          "base_uri": "https://localhost:8080/",
          "height": 281
        },
        "id": "lpzxFsAELrMX",
        "outputId": "f70651fb-321f-41a2-b518-4516c662d8fb"
      },
      "execution_count": null,
      "outputs": [
        {
          "output_type": "display_data",
          "data": {
            "text/plain": [
              "<Figure size 432x288 with 1 Axes>"
            ],
            "image/png": "[encoded data removed]"
          },
          "metadata": {
            "needs_background": "light"
          }
        }
      ]
    },
    {
      "cell_type": "code",
      "source": [
        "plt.plot(error2)\n",
        "plt.title(\"Layer2 error\")\n",
        "plt.show()"
      ],
      "metadata": {
        "colab": {
          "base_uri": "https://localhost:8080/",
          "height": 281
        },
        "id": "mjGt_SqELqlF",
        "outputId": "f61a379e-9344-4b23-dfa7-77cff1dfce9d"
      },
      "execution_count": null,
      "outputs": [
        {
          "output_type": "display_data",
          "data": {
            "text/plain": [
              "<Figure size 432x288 with 1 Axes>"
            ],
            "image/png": "[encoded data removed]"
          },
          "metadata": {
            "needs_background": "light"
          }
        }
      ]
    },
    {
      "cell_type": "code",
      "source": [],
      "metadata": {
        "id": "xWrpCstRLu-L"
      },
      "execution_count": null,
      "outputs": []
    },
    {
      "cell_type": "code",
      "execution_count": null,
      "metadata": {
        "colab": {
          "base_uri": "https://localhost:8080/"
        },
        "id": "a_YVP_bWYGtV",
        "outputId": "f1f790ce-35d0-4264-cce9-95fe3d0e6fa2"
      },
      "outputs": [
        {
          "output_type": "stream",
          "name": "stdout",
          "text": [
            "input:  tensor([0., 0.]) layer1:  tensor([0.5063]) \tlayer2:  tensor([0.0052]) \tanswer: tensor([0.])\n",
            "input:  tensor([0., 1.]) layer1:  tensor([0.5000]) \tlayer2:  tensor([0.9953]) \tanswer: tensor([1.])\n",
            "input:  tensor([1., 0.]) layer1:  tensor([0.4937]) \tlayer2:  tensor([0.9953]) \tanswer: tensor([1.])\n",
            "input:  tensor([1., 1.]) layer1:  tensor([0.4873]) \tlayer2:  tensor([0.0047]) \tanswer: tensor([0.])\n"
          ]
        }
      ],
      "source": [
        "# Test after train (sigmoid, BCELoss)\n",
        "for input, target in zip (x, y):\n",
        "  output1 = net(input,1)\n",
        "  output2 = net(input,2)\n",
        "  print(\"input: \",input, \"layer1: \", output1.data, \"\\tlayer2: \", output2.data, \"\\tanswer:\", target)"
      ]
    },
    {
      "cell_type": "code",
      "execution_count": null,
      "metadata": {
        "id": "K1zMjFiLYUM3"
      },
      "outputs": [],
      "source": []
    }
  ],
  "metadata": {
    "accelerator": "GPU",
    "colab": {
      "collapsed_sections": [],
      "provenance": [],
      "include_colab_link": true
    },
    "kernelspec": {
      "display_name": "Python 3 (ipykernel)",
      "language": "python",
      "name": "python3"
    },
    "language_info": {
      "codemirror_mode": {
        "name": "ipython",
        "version": 3
      },
      "file_extension": ".py",
      "mimetype": "text/x-python",
      "name": "python",
      "nbconvert_exporter": "python",
      "pygments_lexer": "ipython3",
      "version": "3.8.12"
    },
    "widgets": {
      "application/vnd.jupyter.widget-state+json": {
        "056a70f70e25463eba069cc81dc509a3": {
          "model_module": "@jupyter-widgets/controls",
          "model_name": "HBoxModel",
          "model_module_version": "1.5.0",
          "state": {
            "_dom_classes": [],
            "_model_module": "@jupyter-widgets/controls",
            "_model_module_version": "1.5.0",
            "_model_name": "HBoxModel",
            "_view_count": null,
            "_view_module": "@jupyter-widgets/controls",
            "_view_module_version": "1.5.0",
            "_view_name": "HBoxView",
            "box_style": "",
            "children": [
              "IPY_MODEL_33b2eb8737c8452d8c265c7b5b3bd2c1",
              "IPY_MODEL_2c39dabf252340dca971ae2721f95053",
              "IPY_MODEL_b5bab5f37cae40c2b7217455cd3ec1c5"
            ],
            "layout": "IPY_MODEL_39ca8dc380164903b35d9d022cda1fff"
          }
        },
        "33b2eb8737c8452d8c265c7b5b3bd2c1": {
          "model_module": "@jupyter-widgets/controls",
          "model_name": "HTMLModel",
          "model_module_version": "1.5.0",
          "state": {
            "_dom_classes": [],
            "_model_module": "@jupyter-widgets/controls",
            "_model_module_version": "1.5.0",
            "_model_name": "HTMLModel",
            "_view_count": null,
            "_view_module": "@jupyter-widgets/controls",
            "_view_module_version": "1.5.0",
            "_view_name": "HTMLView",
            "description": "",
            "description_tooltip": null,
            "layout": "IPY_MODEL_83c065a255b64cdfabbfaad466f7648f",
            "placeholder": "​",
            "style": "IPY_MODEL_e0e7c719c4fb46f08a283d7b15cf20c2",
            "value": "100%"
          }
        },
        "2c39dabf252340dca971ae2721f95053": {
          "model_module": "@jupyter-widgets/controls",
          "model_name": "FloatProgressModel",
          "model_module_version": "1.5.0",
          "state": {
            "_dom_classes": [],
            "_model_module": "@jupyter-widgets/controls",
            "_model_module_version": "1.5.0",
            "_model_name": "FloatProgressModel",
            "_view_count": null,
            "_view_module": "@jupyter-widgets/controls",
            "_view_module_version": "1.5.0",
            "_view_name": "ProgressView",
            "bar_style": "success",
            "description": "",
            "description_tooltip": null,
            "layout": "IPY_MODEL_cb6db05f9dcb47179b82e3761a2e2f61",
            "max": 170498071,
            "min": 0,
            "orientation": "horizontal",
            "style": "IPY_MODEL_40f375e0283b47deb19d03d490a15adc",
            "value": 170498071
          }
        },
        "b5bab5f37cae40c2b7217455cd3ec1c5": {
          "model_module": "@jupyter-widgets/controls",
          "model_name": "HTMLModel",
          "model_module_version": "1.5.0",
          "state": {
            "_dom_classes": [],
            "_model_module": "@jupyter-widgets/controls",
            "_model_module_version": "1.5.0",
            "_model_name": "HTMLModel",
            "_view_count": null,
            "_view_module": "@jupyter-widgets/controls",
            "_view_module_version": "1.5.0",
            "_view_name": "HTMLView",
            "description": "",
            "description_tooltip": null,
            "layout": "IPY_MODEL_5657f8e1093d42c297e2c337c2c01288",
            "placeholder": "​",
            "style": "IPY_MODEL_6561f8ff35a04d02aeb757b641f385ca",
            "value": " 170498071/170498071 [00:13&lt;00:00, 14449484.62it/s]"
          }
        },
        "39ca8dc380164903b35d9d022cda1fff": {
          "model_module": "@jupyter-widgets/base",
          "model_name": "LayoutModel",
          "model_module_version": "1.2.0",
          "state": {
            "_model_module": "@jupyter-widgets/base",
            "_model_module_version": "1.2.0",
            "_model_name": "LayoutModel",
            "_view_count": null,
            "_view_module": "@jupyter-widgets/base",
            "_view_module_version": "1.2.0",
            "_view_name": "LayoutView",
            "align_content": null,
            "align_items": null,
            "align_self": null,
            "border": null,
            "bottom": null,
            "display": null,
            "flex": null,
            "flex_flow": null,
            "grid_area": null,
            "grid_auto_columns": null,
            "grid_auto_flow": null,
            "grid_auto_rows": null,
            "grid_column": null,
            "grid_gap": null,
            "grid_row": null,
            "grid_template_areas": null,
            "grid_template_columns": null,
            "grid_template_rows": null,
            "height": null,
            "justify_content": null,
            "justify_items": null,
            "left": null,
            "margin": null,
            "max_height": null,
            "max_width": null,
            "min_height": null,
            "min_width": null,
            "object_fit": null,
            "object_position": null,
            "order": null,
            "overflow": null,
            "overflow_x": null,
            "overflow_y": null,
            "padding": null,
            "right": null,
            "top": null,
            "visibility": null,
            "width": null
          }
        },
        "83c065a255b64cdfabbfaad466f7648f": {
          "model_module": "@jupyter-widgets/base",
          "model_name": "LayoutModel",
          "model_module_version": "1.2.0",
          "state": {
            "_model_module": "@jupyter-widgets/base",
            "_model_module_version": "1.2.0",
            "_model_name": "LayoutModel",
            "_view_count": null,
            "_view_module": "@jupyter-widgets/base",
            "_view_module_version": "1.2.0",
            "_view_name": "LayoutView",
            "align_content": null,
            "align_items": null,
            "align_self": null,
            "border": null,
            "bottom": null,
            "display": null,
            "flex": null,
            "flex_flow": null,
            "grid_area": null,
            "grid_auto_columns": null,
            "grid_auto_flow": null,
            "grid_auto_rows": null,
            "grid_column": null,
            "grid_gap": null,
            "grid_row": null,
            "grid_template_areas": null,
            "grid_template_columns": null,
            "grid_template_rows": null,
            "height": null,
            "justify_content": null,
            "justify_items": null,
            "left": null,
            "margin": null,
            "max_height": null,
            "max_width": null,
            "min_height": null,
            "min_width": null,
            "object_fit": null,
            "object_position": null,
            "order": null,
            "overflow": null,
            "overflow_x": null,
            "overflow_y": null,
            "padding": null,
            "right": null,
            "top": null,
            "visibility": null,
            "width": null
          }
        },
        "e0e7c719c4fb46f08a283d7b15cf20c2": {
          "model_module": "@jupyter-widgets/controls",
          "model_name": "DescriptionStyleModel",
          "model_module_version": "1.5.0",
          "state": {
            "_model_module": "@jupyter-widgets/controls",
            "_model_module_version": "1.5.0",
            "_model_name": "DescriptionStyleModel",
            "_view_count": null,
            "_view_module": "@jupyter-widgets/base",
            "_view_module_version": "1.2.0",
            "_view_name": "StyleView",
            "description_width": ""
          }
        },
        "cb6db05f9dcb47179b82e3761a2e2f61": {
          "model_module": "@jupyter-widgets/base",
          "model_name": "LayoutModel",
          "model_module_version": "1.2.0",
          "state": {
            "_model_module": "@jupyter-widgets/base",
            "_model_module_version": "1.2.0",
            "_model_name": "LayoutModel",
            "_view_count": null,
            "_view_module": "@jupyter-widgets/base",
            "_view_module_version": "1.2.0",
            "_view_name": "LayoutView",
            "align_content": null,
            "align_items": null,
            "align_self": null,
            "border": null,
            "bottom": null,
            "display": null,
            "flex": null,
            "flex_flow": null,
            "grid_area": null,
            "grid_auto_columns": null,
            "grid_auto_flow": null,
            "grid_auto_rows": null,
            "grid_column": null,
            "grid_gap": null,
            "grid_row": null,
            "grid_template_areas": null,
            "grid_template_columns": null,
            "grid_template_rows": null,
            "height": null,
            "justify_content": null,
            "justify_items": null,
            "left": null,
            "margin": null,
            "max_height": null,
            "max_width": null,
            "min_height": null,
            "min_width": null,
            "object_fit": null,
            "object_position": null,
            "order": null,
            "overflow": null,
            "overflow_x": null,
            "overflow_y": null,
            "padding": null,
            "right": null,
            "top": null,
            "visibility": null,
            "width": null
          }
        },
        "40f375e0283b47deb19d03d490a15adc": {
          "model_module": "@jupyter-widgets/controls",
          "model_name": "ProgressStyleModel",
          "model_module_version": "1.5.0",
          "state": {
            "_model_module": "@jupyter-widgets/controls",
            "_model_module_version": "1.5.0",
            "_model_name": "ProgressStyleModel",
            "_view_count": null,
            "_view_module": "@jupyter-widgets/base",
            "_view_module_version": "1.2.0",
            "_view_name": "StyleView",
            "bar_color": null,
            "description_width": ""
          }
        },
        "5657f8e1093d42c297e2c337c2c01288": {
          "model_module": "@jupyter-widgets/base",
          "model_name": "LayoutModel",
          "model_module_version": "1.2.0",
          "state": {
            "_model_module": "@jupyter-widgets/base",
            "_model_module_version": "1.2.0",
            "_model_name": "LayoutModel",
            "_view_count": null,
            "_view_module": "@jupyter-widgets/base",
            "_view_module_version": "1.2.0",
            "_view_name": "LayoutView",
            "align_content": null,
            "align_items": null,
            "align_self": null,
            "border": null,
            "bottom": null,
            "display": null,
            "flex": null,
            "flex_flow": null,
            "grid_area": null,
            "grid_auto_columns": null,
            "grid_auto_flow": null,
            "grid_auto_rows": null,
            "grid_column": null,
            "grid_gap": null,
            "grid_row": null,
            "grid_template_areas": null,
            "grid_template_columns": null,
            "grid_template_rows": null,
            "height": null,
            "justify_content": null,
            "justify_items": null,
            "left": null,
            "margin": null,
            "max_height": null,
            "max_width": null,
            "min_height": null,
            "min_width": null,
            "object_fit": null,
            "object_position": null,
            "order": null,
            "overflow": null,
            "overflow_x": null,
            "overflow_y": null,
            "padding": null,
            "right": null,
            "top": null,
            "visibility": null,
            "width": null
          }
        },
        "6561f8ff35a04d02aeb757b641f385ca": {
          "model_module": "@jupyter-widgets/controls",
          "model_name": "DescriptionStyleModel",
          "model_module_version": "1.5.0",
          "state": {
            "_model_module": "@jupyter-widgets/controls",
            "_model_module_version": "1.5.0",
            "_model_name": "DescriptionStyleModel",
            "_view_count": null,
            "_view_module": "@jupyter-widgets/base",
            "_view_module_version": "1.2.0",
            "_view_name": "StyleView",
            "description_width": ""
          }
        }
      }
    }
  },
  "nbformat": 4,
  "nbformat_minor": 0
}